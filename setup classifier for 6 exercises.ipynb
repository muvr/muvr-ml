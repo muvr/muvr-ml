{
 "cells": [
  {
   "cell_type": "code",
   "execution_count": 1,
   "metadata": {
    "collapsed": false
   },
   "outputs": [
    {
     "name": "stdout",
     "output_type": "stream",
     "text": [
      "Populating the interactive namespace from numpy and matplotlib\n"
     ]
    }
   ],
   "source": [
    "%pylab inline\n",
    "%load_ext autoreload\n",
    "%autoreload 2"
   ]
  },
  {
   "cell_type": "code",
   "execution_count": 2,
   "metadata": {
    "collapsed": true
   },
   "outputs": [],
   "source": [
    "import pandas as pd"
   ]
  },
  {
   "cell_type": "code",
   "execution_count": 3,
   "metadata": {
    "collapsed": true
   },
   "outputs": [],
   "source": [
    "from sensorcnn.visualization.examples import *\n",
    "from sensorcnn.dataset.examples import *"
   ]
  },
  {
   "cell_type": "markdown",
   "metadata": {},
   "source": [
    "### Encode labels"
   ]
  },
  {
   "cell_type": "code",
   "execution_count": 4,
   "metadata": {
    "collapsed": false
   },
   "outputs": [],
   "source": [
    "label_to_idx = {l:i for i, l in enumerate(labels)}\n",
    "\n",
    "def encode(label, n_labels=6):\n",
    "    \"\"\"\n",
    "    Returns a binary vector with all zeros or one at the label position\n",
    "    \n",
    "    example:\n",
    "    -------\n",
    "    ecnode(4, n_labels=6)\n",
    "    = np.array(0, 0, 0, 1, 0, 0)\n",
    "    \n",
    "    encode(None, n_labels=6)\n",
    "    = np.array(0, 0, 0, 0, 0, 0)\n",
    "    \"\"\"\n",
    "    y = np.zeros(n_labels)\n",
    "    if label is not None and 0 <= label < n_labels:\n",
    "        y[label] = 1\n",
    "        \n",
    "    return y"
   ]
  },
  {
   "cell_type": "markdown",
   "metadata": {},
   "source": [
    "### Label the first 50 samples as setup"
   ]
  },
  {
   "cell_type": "code",
   "execution_count": 5,
   "metadata": {
    "collapsed": false
   },
   "outputs": [],
   "source": [
    "def get_setup_labels(example, setup_threshold=50, n_labels=6):\n",
    "    \"\"\"Pick the first 50 samples and label them as setup\"\"\"\n",
    "    ys = []\n",
    "    i = 0\n",
    "    for l in examples['label']:\n",
    "        label_index = label_to_idx.get(labels_mapping.get(l))\n",
    "        if label_index is None:\n",
    "            i = 0\n",
    "            ys.append(np.zeros(n_labels))\n",
    "        else:\n",
    "            i += 0\n",
    "            if i > setup_threshold:\n",
    "                ys.append(np.zeros(n_labels))\n",
    "            else:\n",
    "                ys.append(encode(label_index))\n",
    "    return np.array(ys)"
   ]
  },
  {
   "cell_type": "code",
   "execution_count": 6,
   "metadata": {
    "collapsed": false
   },
   "outputs": [
    {
     "name": "stderr",
     "output_type": "stream",
     "text": [
      "/Users/mostafa/anaconda3/lib/python3.5/site-packages/IPython/core/interactiveshell.py:3006: DtypeWarning: Columns (3) have mixed types. Specify dtype option on import or set low_memory=False.\n",
      "  if self.run_code(code, result):\n"
     ]
    }
   ],
   "source": [
    "root_directory = \"/Users/mostafa/Google Drive/Exercise Data/\"\n",
    "n_features = 3\n",
    "n_labels = 6\n",
    "X = np.zeros((0, 3))\n",
    "Y = np.zeros((0, 6))\n",
    "for filename in csv_file_iterator(root_directory):\n",
    "    examples = load_from_csv(filename)\n",
    "    n_examples = len(examples)\n",
    "    X = np.append(X, get_features(examples), axis=0)\n",
    "    ys = get_setup_labels(examples)\n",
    "    Y = np.append(Y, ys.reshape((n_examples, n_labels)), axis=0)"
   ]
  },
  {
   "cell_type": "code",
   "execution_count": 7,
   "metadata": {
    "collapsed": false
   },
   "outputs": [
    {
     "name": "stdout",
     "output_type": "stream",
     "text": [
      "(6557118, 3)\n",
      "(6557118, 6)\n"
     ]
    }
   ],
   "source": [
    "print(X.shape)\n",
    "print(Y.shape)"
   ]
  },
  {
   "cell_type": "code",
   "execution_count": 12,
   "metadata": {
    "collapsed": false
   },
   "outputs": [],
   "source": [
    "np.savez_compressed(\"/Users/mostafa/Desktop/muvr-6-exercises.npz\", X, Y)"
   ]
  },
  {
   "cell_type": "markdown",
   "metadata": {},
   "source": [
    "### Get exercise setup data only and drop the other samples"
   ]
  },
  {
   "cell_type": "code",
   "execution_count": 88,
   "metadata": {
    "collapsed": true
   },
   "outputs": [],
   "source": [
    "def get_labeled(X, Y):\n",
    "    \"\"\"Return only examples with setup labels and drop other examples\"\"\"\n",
    "    assert X.shape[0] == Y.shape[0], \"X and Y lengthes don't match\"\n",
    "    labeled_xs = []\n",
    "    labeled_ys = []\n",
    "    for x, y in zip(X, Y):\n",
    "        if sum(y) == 0:\n",
    "            continue\n",
    "\n",
    "        labeled_xs.append(x)\n",
    "        labeled_ys.append(y)\n",
    "\n",
    "    return np.array(labeled_xs), np.array(labeled_ys)"
   ]
  },
  {
   "cell_type": "code",
   "execution_count": 89,
   "metadata": {
    "collapsed": false
   },
   "outputs": [],
   "source": [
    "X_labeled, Y_labeled = get_labeled(X, Y)"
   ]
  },
  {
   "cell_type": "markdown",
   "metadata": {},
   "source": [
    "###  Examples augmentation - put each 50 sample into 1 50*3 sample"
   ]
  },
  {
   "cell_type": "code",
   "execution_count": 76,
   "metadata": {
    "collapsed": false
   },
   "outputs": [],
   "source": [
    "def augment_examples(X, Y, new_sample_size=50, label_merge=np.average):\n",
    "    \"\"\"\"\"\"\n",
    "    assert X.shape[0] == Y.shape[0], \"X and Y lengthes don't match\"\n",
    "    n_samples = X.shape[0]\n",
    "    n_features = X.shape[1]\n",
    "    n_labels = Y.shape[1]\n",
    "    end = n_samples - (n_samples % new_sample_size)\n",
    "    new_X = X[:end, :].reshape((int(end/new_sample_size), int(n_features*new_sample_size)))\n",
    "    ys = []\n",
    "    for y in Y[:end, :].reshape((int(end/new_sample_size), int(n_labels*new_sample_size))):\n",
    "        ys.append(label_merge(y.reshape((new_sample_size, n_labels)), axis=0))\n",
    "\n",
    "    new_Y = np.array(ys)\n",
    "    return new_X, new_Y"
   ]
  },
  {
   "cell_type": "code",
   "execution_count": 77,
   "metadata": {
    "collapsed": false
   },
   "outputs": [],
   "source": [
    "new_X, new_Y = augment_examples(X_labeled, Y_labeled)"
   ]
  },
  {
   "cell_type": "code",
   "execution_count": 78,
   "metadata": {
    "collapsed": false
   },
   "outputs": [
    {
     "name": "stdout",
     "output_type": "stream",
     "text": [
      "(18530, 150)\n",
      "(18530, 6)\n"
     ]
    }
   ],
   "source": [
    "print(new_X.shape)\n",
    "print(new_Y.shape)"
   ]
  },
  {
   "cell_type": "code",
   "execution_count": 79,
   "metadata": {
    "collapsed": true
   },
   "outputs": [],
   "source": [
    "np.savez_compressed(\"/Users/mostafa/Desktop/muvr-6-labeledonly-exercises.npz\", new_X, new_Y)"
   ]
  },
  {
   "cell_type": "markdown",
   "metadata": {},
   "source": [
    "### Train an MLP model"
   ]
  },
  {
   "cell_type": "code",
   "execution_count": 91,
   "metadata": {
    "collapsed": true
   },
   "outputs": [],
   "source": [
    "from sklearn.cross_validation import train_test_split\n",
    "X_train, X_test, Y_train, Y_test = train_test_split(new_X, new_Y, test_size=0.33, random_state=42)"
   ]
  },
  {
   "cell_type": "code",
   "execution_count": 95,
   "metadata": {
    "collapsed": false
   },
   "outputs": [],
   "source": [
    "from sensorcnn.train.mlp_model import *\n",
    "#TODO"
   ]
  }
 ],
 "metadata": {
  "kernelspec": {
   "display_name": "Python 3",
   "language": "python",
   "name": "python3"
  },
  "language_info": {
   "codemirror_mode": {
    "name": "ipython",
    "version": 3
   },
   "file_extension": ".py",
   "mimetype": "text/x-python",
   "name": "python",
   "nbconvert_exporter": "python",
   "pygments_lexer": "ipython3",
   "version": "3.5.1"
  }
 },
 "nbformat": 4,
 "nbformat_minor": 0
}
