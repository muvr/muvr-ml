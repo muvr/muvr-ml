{
 "cells": [
  {
   "cell_type": "code",
   "execution_count": 1,
   "metadata": {
    "collapsed": false
   },
   "outputs": [
    {
     "name": "stdout",
     "output_type": "stream",
     "text": [
      "Populating the interactive namespace from numpy and matplotlib\n"
     ]
    }
   ],
   "source": [
    "%pylab inline\n",
    "%load_ext autoreload\n",
    "%autoreload 2\n",
    "import sys\n",
    "sys.path.append(\"/src/sensorcnn\")"
   ]
  },
  {
   "cell_type": "code",
   "execution_count": 2,
   "metadata": {
    "collapsed": true
   },
   "outputs": [],
   "source": [
    "import sys\n",
    "import pandas as pd\n",
    "import matplotlib\n",
    "matplotlib.style.use('ggplot')"
   ]
  },
  {
   "cell_type": "code",
   "execution_count": 3,
   "metadata": {
    "collapsed": false
   },
   "outputs": [],
   "source": [
    "from visualization.examples import *\n",
    "from dataset.setup_exercise_examples import *\n",
    "from dataset.utils import *"
   ]
  },
  {
   "cell_type": "code",
   "execution_count": 4,
   "metadata": {
    "collapsed": true
   },
   "outputs": [],
   "source": [
    "all_samples = {}\n",
    "for filename in csv_file_iterator(\"/data/Setup Data/Mo\"):\n",
    "    samples = load_from_csv(filename)\n",
    "    all_samples[filename] = samples"
   ]
  },
  {
   "cell_type": "code",
   "execution_count": 5,
   "metadata": {
    "collapsed": false
   },
   "outputs": [],
   "source": [
    "sample1 = all_samples['/data/Setup Data/Mo/2016-05-24T22-36-02Z.csv']"
   ]
  },
  {
   "cell_type": "code",
   "execution_count": 6,
   "metadata": {
    "collapsed": true
   },
   "outputs": [],
   "source": [
    "from functools import reduce\n",
    "df = reduce(lambda x, y: x.append(y), all_samples.values())"
   ]
  },
  {
   "cell_type": "code",
   "execution_count": 7,
   "metadata": {
    "collapsed": false
   },
   "outputs": [
    {
     "data": {
      "text/plain": [
       "no_exercise                                                   28987\n",
       "resistanceTargeted:shoulders/dumbbell-shoulder-press           6859\n",
       "resistanceTargeted:arms/triceps-extension                      6673\n",
       "resistanceTargeted:shoulders/lateral-raise                     5346\n",
       "resistanceTargeted:arms/dumbbell-biceps-curl                   5118\n",
       "setup_resistanceTargeted:arms/triceps-extension                2750\n",
       "setup_resistanceTargeted:shoulders/dumbbell-shoulder-press     2500\n",
       "setup_resistanceTargeted:arms/dumbbell-biceps-curl             2500\n",
       "setup_resistanceTargeted:shoulders/lateral-raise               2250\n",
       "Name: label, dtype: int64"
      ]
     },
     "execution_count": 7,
     "metadata": {},
     "output_type": "execute_result"
    }
   ],
   "source": [
    "df['label'].value_counts()"
   ]
  },
  {
   "cell_type": "code",
   "execution_count": 8,
   "metadata": {
    "collapsed": false
   },
   "outputs": [],
   "source": [
    "labels = [l for l in df['label'].value_counts().keys() if l.startswith(\"setup_\")]\n",
    "labels_map = {l:i+1 for (i,l) in enumerate(labels)}\n",
    "label_to_idx = lambda l: labels_map.get(l, 0)"
   ]
  },
  {
   "cell_type": "code",
   "execution_count": 9,
   "metadata": {
    "collapsed": false
   },
   "outputs": [],
   "source": [
    "df['target'] = df['label'].map(label_to_idx)"
   ]
  },
  {
   "cell_type": "code",
   "execution_count": 10,
   "metadata": {
    "collapsed": false
   },
   "outputs": [],
   "source": [
    "samples = df[['x', 'y', 'z']].as_matrix()"
   ]
  },
  {
   "cell_type": "code",
   "execution_count": 11,
   "metadata": {
    "collapsed": true
   },
   "outputs": [],
   "source": [
    "positive_targets = df[df['target'] > 0]\n",
    "# negative_targets = df[df['target'] == 0]\n",
    "# targets = np.append(positive_targets[['target']].as_matrix(),\n",
    "#                     negative_targets[['target']].as_matrix(),\n",
    "#                     axis=0)"
   ]
  },
  {
   "cell_type": "code",
   "execution_count": 12,
   "metadata": {
    "collapsed": false
   },
   "outputs": [],
   "source": [
    "# User positive only\n",
    "targets = positive_targets[['target']].as_matrix()\n",
    "samples = df[['x', 'y', 'z']].as_matrix()[positive_targets.index]"
   ]
  },
  {
   "cell_type": "code",
   "execution_count": 13,
   "metadata": {
    "collapsed": false
   },
   "outputs": [
    {
     "data": {
      "text/plain": [
       "0    52983\n",
       "1     2750\n",
       "3     2500\n",
       "2     2500\n",
       "4     2250\n",
       "Name: label, dtype: int64"
      ]
     },
     "execution_count": 13,
     "metadata": {},
     "output_type": "execute_result"
    }
   ],
   "source": [
    "df['label'].map(label_to_idx).value_counts()"
   ]
  },
  {
   "cell_type": "code",
   "execution_count": 14,
   "metadata": {
    "collapsed": false
   },
   "outputs": [
    {
     "name": "stdout",
     "output_type": "stream",
     "text": [
      "(10000, 3)\n",
      "(10000, 1)\n"
     ]
    }
   ],
   "source": [
    "print(samples.shape)\n",
    "print(targets.shape)"
   ]
  },
  {
   "cell_type": "code",
   "execution_count": 15,
   "metadata": {
    "collapsed": false
   },
   "outputs": [],
   "source": [
    "X, y = augment_examples(samples, targets, new_sample_size=50*5)"
   ]
  },
  {
   "cell_type": "code",
   "execution_count": 16,
   "metadata": {
    "collapsed": false
   },
   "outputs": [
    {
     "name": "stdout",
     "output_type": "stream",
     "text": [
      "(40, 750)\n",
      "(40, 1)\n"
     ]
    }
   ],
   "source": [
    "print(X.shape)\n",
    "print(y.shape)"
   ]
  },
  {
   "cell_type": "markdown",
   "metadata": {},
   "source": [
    "### Examples encoding"
   ]
  },
  {
   "cell_type": "code",
   "execution_count": 17,
   "metadata": {
    "collapsed": false
   },
   "outputs": [],
   "source": [
    "Y = np.zeros((y.shape[0], 4))\n",
    "iy = np.array([[i, yi-1] for (i, yi) in enumerate(y) if yi > 0])\n",
    "Y[iy[:, 0], iy[:, 1]] = 1"
   ]
  },
  {
   "cell_type": "markdown",
   "metadata": {},
   "source": [
    "### Split dataset"
   ]
  },
  {
   "cell_type": "code",
   "execution_count": 19,
   "metadata": {
    "collapsed": true
   },
   "outputs": [],
   "source": [
    "X_train, X_test, Y_train, Y_test = split(X, Y)"
   ]
  },
  {
   "cell_type": "code",
   "execution_count": 37,
   "metadata": {
    "collapsed": false
   },
   "outputs": [],
   "source": [
    "from keras.models import Sequential\n",
    "from keras.layers.core import Dense, Dropout, Activation\n",
    "from keras.optimizers import SGD\n",
    "\n",
    "model = Sequential()\n",
    "model.add(Dense(input_dim=X.shape[1], output_dim=150, activation=\"tanh\", init='uniform'))\n",
    "model.add(Dropout(0.5))\n",
    "model.add(Dense(input_dim=150, output_dim=100, activation=\"tanh\", init='uniform'))\n",
    "model.add(Dropout(0.5))\n",
    "model.add(Dense(input_dim=100, output_dim=4, activation=\"tanh\", init='uniform'))\n",
    "\n",
    "sgd = SGD(lr=0.1, decay=1e-6, momentum=0.9, nesterov=True)\n",
    "model.compile(loss='mean_squared_error', optimizer=sgd, metrics=[\"accuracy\"])"
   ]
  },
  {
   "cell_type": "code",
   "execution_count": 38,
   "metadata": {
    "collapsed": false
   },
   "outputs": [
    {
     "name": "stdout",
     "output_type": "stream",
     "text": [
      "Epoch 1/30\n",
      "28/28 [==============================] - 0s - loss: 0.2561 - acc: 0.0357\n",
      "Epoch 2/30\n",
      "28/28 [==============================] - 0s - loss: 0.2282 - acc: 0.2500\n",
      "Epoch 3/30\n",
      "28/28 [==============================] - 0s - loss: 0.2120 - acc: 0.2143\n",
      "Epoch 4/30\n",
      "28/28 [==============================] - 0s - loss: 0.2030 - acc: 0.2857\n",
      "Epoch 5/30\n",
      "28/28 [==============================] - 0s - loss: 0.1837 - acc: 0.4286\n",
      "Epoch 6/30\n",
      "28/28 [==============================] - 0s - loss: 0.1854 - acc: 0.3929\n",
      "Epoch 7/30\n",
      "28/28 [==============================] - 0s - loss: 0.1890 - acc: 0.4286\n",
      "Epoch 8/30\n",
      "28/28 [==============================] - 0s - loss: 0.1788 - acc: 0.5357\n",
      "Epoch 9/30\n",
      "28/28 [==============================] - 0s - loss: 0.1842 - acc: 0.4643\n",
      "Epoch 10/30\n",
      "28/28 [==============================] - 0s - loss: 0.1787 - acc: 0.5357\n",
      "Epoch 11/30\n",
      "28/28 [==============================] - 0s - loss: 0.1785 - acc: 0.4643\n",
      "Epoch 12/30\n",
      "28/28 [==============================] - 0s - loss: 0.1693 - acc: 0.5357\n",
      "Epoch 13/30\n",
      "28/28 [==============================] - 0s - loss: 0.1670 - acc: 0.5714\n",
      "Epoch 14/30\n",
      "28/28 [==============================] - 0s - loss: 0.1611 - acc: 0.6071\n",
      "Epoch 15/30\n",
      "28/28 [==============================] - 0s - loss: 0.1532 - acc: 0.5714\n",
      "Epoch 16/30\n",
      "28/28 [==============================] - 0s - loss: 0.1467 - acc: 0.5714\n",
      "Epoch 17/30\n",
      "28/28 [==============================] - 0s - loss: 0.1508 - acc: 0.5714\n",
      "Epoch 18/30\n",
      "28/28 [==============================] - 0s - loss: 0.1435 - acc: 0.5357\n",
      "Epoch 19/30\n",
      "28/28 [==============================] - 0s - loss: 0.1356 - acc: 0.5714\n",
      "Epoch 20/30\n",
      "28/28 [==============================] - 0s - loss: 0.1264 - acc: 0.7857\n",
      "Epoch 21/30\n",
      "28/28 [==============================] - 0s - loss: 0.1324 - acc: 0.7143\n",
      "Epoch 22/30\n",
      "28/28 [==============================] - 0s - loss: 0.1251 - acc: 0.7500\n",
      "Epoch 23/30\n",
      "28/28 [==============================] - 0s - loss: 0.1204 - acc: 0.7143\n",
      "Epoch 24/30\n",
      "28/28 [==============================] - 0s - loss: 0.1243 - acc: 0.7143\n",
      "Epoch 25/30\n",
      "28/28 [==============================] - 0s - loss: 0.1074 - acc: 0.8214\n",
      "Epoch 26/30\n",
      "28/28 [==============================] - 0s - loss: 0.1132 - acc: 0.7143\n",
      "Epoch 27/30\n",
      "28/28 [==============================] - 0s - loss: 0.1047 - acc: 0.8214\n",
      "Epoch 28/30\n",
      "28/28 [==============================] - 0s - loss: 0.1054 - acc: 0.7500\n",
      "Epoch 29/30\n",
      "28/28 [==============================] - 0s - loss: 0.0981 - acc: 0.7500\n",
      "Epoch 30/30\n",
      "28/28 [==============================] - 0s - loss: 0.1077 - acc: 0.7857\n"
     ]
    },
    {
     "data": {
      "text/plain": [
       "<keras.callbacks.History at 0x7fb5b8748278>"
      ]
     },
     "execution_count": 38,
     "metadata": {},
     "output_type": "execute_result"
    }
   ],
   "source": [
    "model.fit(X_train, Y_train, nb_epoch=30, batch_size=128)"
   ]
  },
  {
   "cell_type": "code",
   "execution_count": 39,
   "metadata": {
    "collapsed": false
   },
   "outputs": [
    {
     "data": {
      "text/plain": [
       "array([[-0.02799169,  0.18997015,  0.64517057,  0.10524564],\n",
       "       [-0.22060394,  0.64599442,  0.42282325,  0.00146477],\n",
       "       [ 0.61788076,  0.15217321,  0.31897968, -0.01920284],\n",
       "       [ 0.10421221,  0.26466757,  0.35425496,  0.34758511],\n",
       "       [-0.47468522,  0.56679517,  0.18433185,  0.63491309],\n",
       "       [-0.05861086,  0.31878594,  0.44696212,  0.3030211 ],\n",
       "       [ 0.08347926,  0.22002435,  0.48012936,  0.20979737],\n",
       "       [ 0.29429615,  0.19146495,  0.33237538,  0.30819041],\n",
       "       [ 0.30576468,  0.2259592 ,  0.17905208,  0.38010305],\n",
       "       [ 0.08367258,  0.34312558,  0.24523543,  0.36538488],\n",
       "       [ 0.16005066,  0.29212341,  0.28321302,  0.35127568],\n",
       "       [-0.06104065,  0.09799861,  0.35907009,  0.57037264]])"
      ]
     },
     "execution_count": 39,
     "metadata": {},
     "output_type": "execute_result"
    }
   ],
   "source": [
    "model.predict(X_test)"
   ]
  },
  {
   "cell_type": "code",
   "execution_count": 45,
   "metadata": {
    "collapsed": false
   },
   "outputs": [
    {
     "name": "stdout",
     "output_type": "stream",
     "text": [
      "8\n"
     ]
    }
   ],
   "source": [
    "class X(object):\n",
    "    def __init__(self):\n",
    "        self.x = 8\n",
    "\n",
    "x = X()\n",
    "def f(x):\n",
    "    return x.x\n",
    "X.f = f\n",
    "print(x.f())"
   ]
  },
  {
   "cell_type": "code",
   "execution_count": 46,
   "metadata": {
    "collapsed": false
   },
   "outputs": [
    {
     "data": {
      "text/plain": [
       "10"
      ]
     },
     "execution_count": 46,
     "metadata": {},
     "output_type": "execute_result"
    }
   ],
   "source": [
    "9 + 1"
   ]
  },
  {
   "cell_type": "code",
   "execution_count": 50,
   "metadata": {
    "collapsed": false
   },
   "outputs": [
    {
     "data": {
      "text/plain": [
       "['',\n",
       " 'get_ipython().magic(\\'pylab inline\\')\\nget_ipython().magic(\\'load_ext autoreload\\')\\nget_ipython().magic(\\'autoreload 2\\')\\nimport sys\\nsys.path.append(\"/src/sensorcnn\")',\n",
       " \"import sys\\nimport pandas as pd\\nimport matplotlib\\nmatplotlib.style.use('ggplot')\",\n",
       " 'from visualization.examples import *\\nfrom dataset.setup_exercise_examples import *\\nfrom dataset.utils import *',\n",
       " 'all_samples = {}\\nfor filename in csv_file_iterator(\"/data/Setup Data/Mo\"):\\n    samples = load_from_csv(filename)\\n    all_samples[filename] = samples',\n",
       " \"sample1 = all_samples['/data/Setup Data/Mo/2016-05-24T22-36-02Z.csv']\",\n",
       " 'from functools import reduce\\ndf = reduce(lambda x, y: x.append(y), all_samples.values())',\n",
       " \"df['label'].value_counts()\",\n",
       " 'labels = [l for l in df[\\'label\\'].value_counts().keys() if l.startswith(\"setup_\")]\\nlabels_map = {l:i+1 for (i,l) in enumerate(labels)}\\nlabel_to_idx = lambda l: labels_map.get(l, 0)',\n",
       " \"df['target'] = df['label'].map(label_to_idx)\",\n",
       " \"samples = df[['x', 'y', 'z']].as_matrix()\",\n",
       " \"positive_targets = df[df['target'] > 0]\\n# negative_targets = df[df['target'] == 0]\\n# targets = np.append(positive_targets[['target']].as_matrix(),\\n#                     negative_targets[['target']].as_matrix(),\\n#                     axis=0)\",\n",
       " \"# User positive only\\ntargets = positive_targets[['target']].as_matrix()\\nsamples = df[['x', 'y', 'z']].as_matrix()[positive_targets.index]\",\n",
       " \"df['label'].map(label_to_idx).value_counts()\",\n",
       " 'print(samples.shape)\\nprint(targets.shape)',\n",
       " 'X, y = augment_examples(samples, targets, new_sample_size=50*5)',\n",
       " 'print(X.shape)\\nprint(y.shape)',\n",
       " 'Y = np.zeros((y.shape[0], 4))\\niy = np.array([[i, yi-1] for (i, yi) in enumerate(y) if yi > 0])\\nY[iy[:, 0], iy[:, 1]] = 1',\n",
       " 'n = int(len(y) / len(iy))\\npartition = len(iy)\\nnew_X = boost(X, n, partition)\\nnew_Y = boost(Y, n, partition)',\n",
       " 'X_train, X_test, Y_train, Y_test = split(X, Y)',\n",
       " 'from keras.models import Sequential\\nfrom keras.layers.core import Dense, Dropout, Activation\\nfrom keras.optimizers import SGD\\n\\nmodel = Sequential()\\nmodel.add(Dense(input_dim=X.shape[1], output_dim=150, activation=\"tanh\", init=\\'uniform\\'))\\nmodel.add(Dense(input_dim=150, output_dim=100, activation=\"tanh\", init=\\'uniform\\'))\\nmodel.add(Dense(input_dim=100, output_dim=4, activation=\"tanh\", init=\\'uniform\\'))\\n\\nsgd = SGD(lr=0.1, decay=1e-6, momentum=0.9, nesterov=True)\\nmodel.compile(loss=\\'mean_squared_error\\', optimizer=sgd, metrics=[\"accuracy\"])',\n",
       " 'model.fit(X_train, Y_train, nb_epoch=30, batch_size=128)',\n",
       " 'model.predict(X_test)',\n",
       " 'model',\n",
       " 'model.layers',\n",
       " 'model.layers[0]',\n",
       " 'l = model.layers[0]',\n",
       " 'l = model.layers[0]\\nl.activation',\n",
       " 'l = model.layers[0]\\nl.activation()',\n",
       " 'l = model.layers[0]\\nstr(l.activation)',\n",
       " 'l = model.layers[0]\\nrepr(l.activation)',\n",
       " 'from keras.models import Sequential\\nfrom keras.layers.core import Dense, Dropout, Activation\\nfrom keras.optimizers import SGD\\n\\nmodel = Sequential()\\nmodel.add(Dense(input_dim=X.shape[1], output_dim=150, activation=\"tanh\", init=\\'uniform\\'))\\nmodel.add(Dropout(0.5))\\nmodel.add(Dense(input_dim=150, output_dim=100, activation=\"tanh\", init=\\'uniform\\'))\\nmodel.add(Dropout(0.5))\\nmodel.add(Dense(input_dim=100, output_dim=4, activation=\"tanh\", init=\\'uniform\\'))\\n\\nsgd = SGD(lr=0.1, decay=1e-6, momentum=0.9, nesterov=True)\\nmodel.compile(loss=\\'mean_squared_error\\', optimizer=sgd, metrics=[\"accuracy\"])',\n",
       " 'model.fit(X_train, Y_train, nb_epoch=30, batch_size=128)',\n",
       " 'model.predict(X_test)',\n",
       " 'from keras.models import Sequential\\nfrom keras.layers.core import Dense, Dropout, Activation\\nfrom keras.optimizers import SGD\\n\\nmodel = Sequential()\\nmodel.add(Dense(input_dim=X.shape[1], output_dim=150, activation=\"relu\", init=\\'uniform\\'))\\nmodel.add(Dropout(0.5))\\nmodel.add(Dense(input_dim=150, output_dim=100, activation=\"relu\", init=\\'uniform\\'))\\nmodel.add(Dropout(0.5))\\nmodel.add(Dense(input_dim=100, output_dim=4, activation=\"relu\", init=\\'uniform\\'))\\n\\nsgd = SGD(lr=0.1, decay=1e-6, momentum=0.9, nesterov=True)\\nmodel.compile(loss=\\'mean_squared_error\\', optimizer=sgd, metrics=[\"accuracy\"])',\n",
       " 'model.fit(X_train, Y_train, nb_epoch=30, batch_size=128)',\n",
       " 'model.predict(X_test)',\n",
       " 'from keras.models import Sequential\\nfrom keras.layers.core import Dense, Dropout, Activation\\nfrom keras.optimizers import SGD\\n\\nmodel = Sequential()\\nmodel.add(Dense(input_dim=X.shape[1], output_dim=150, activation=\"tanh\", init=\\'uniform\\'))\\nmodel.add(Dropout(0.5))\\nmodel.add(Dense(input_dim=150, output_dim=100, activation=\"tanh\", init=\\'uniform\\'))\\nmodel.add(Dropout(0.5))\\nmodel.add(Dense(input_dim=100, output_dim=4, activation=\"tanh\", init=\\'uniform\\'))\\n\\nsgd = SGD(lr=0.1, decay=1e-6, momentum=0.9, nesterov=True)\\nmodel.compile(loss=\\'mean_squared_error\\', optimizer=sgd, metrics=[\"accuracy\"])',\n",
       " 'model.fit(X_train, Y_train, nb_epoch=30, batch_size=128)',\n",
       " 'model.predict(X_test)',\n",
       " 'class X(object):\\n    def __init__(self):\\n        self.x = 8\\n\\nx = X()\\nprint( )x.x)',\n",
       " 'class X(object):\\n    def __init__(self):\\n        self.x = 8\\n\\nx = X()\\nprint(x.x)',\n",
       " 'class X(object):\\n    def __init__(self):\\n        self.x = 8\\n\\nx = X()\\nprint(x.f())',\n",
       " 'class X(object):\\n    def __init__(self):\\n        self.x = 8\\n\\nx = X()\\ndef f(x):\\n    return x.x\\n\\nprint(x.f())',\n",
       " 'class X(object):\\n    def __init__(self):\\n        self.x = 8\\n\\nx = X()\\ndef f(x):\\n    return x.x\\nx.f = f\\nprint(x.f())',\n",
       " 'class X(object):\\n    def __init__(self):\\n        self.x = 8\\n\\nx = X()\\ndef f(x):\\n    return x.x\\nX.f = f\\nprint(x.f())',\n",
       " '9 + 1',\n",
       " 'ans46',\n",
       " 'Out[46]',\n",
       " 'Out',\n",
       " 'In']"
      ]
     },
     "execution_count": 50,
     "metadata": {},
     "output_type": "execute_result"
    }
   ],
   "source": [
    "In"
   ]
  }
 ],
 "metadata": {
  "kernelspec": {
   "display_name": "Python 3",
   "language": "python",
   "name": "python3"
  },
  "language_info": {
   "codemirror_mode": {
    "name": "ipython",
    "version": 3
   },
   "file_extension": ".py",
   "mimetype": "text/x-python",
   "name": "python",
   "nbconvert_exporter": "python",
   "pygments_lexer": "ipython3",
   "version": "3.5.1"
  }
 },
 "nbformat": 4,
 "nbformat_minor": 0
}
