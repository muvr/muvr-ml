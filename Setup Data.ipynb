{
 "cells": [
  {
   "cell_type": "code",
   "execution_count": 1,
   "metadata": {
    "collapsed": false
   },
   "outputs": [
    {
     "name": "stdout",
     "output_type": "stream",
     "text": [
      "Populating the interactive namespace from numpy and matplotlib\n"
     ]
    }
   ],
   "source": [
    "%pylab inline\n",
    "%load_ext autoreload\n",
    "%autoreload 2\n",
    "import sys\n",
    "sys.path.append(\"/src/sensorcnn\")"
   ]
  },
  {
   "cell_type": "code",
   "execution_count": 2,
   "metadata": {
    "collapsed": true
   },
   "outputs": [],
   "source": [
    "import sys\n",
    "import pandas as pd\n",
    "import matplotlib\n",
    "matplotlib.style.use('ggplot')"
   ]
  },
  {
   "cell_type": "code",
   "execution_count": 3,
   "metadata": {
    "collapsed": false
   },
   "outputs": [],
   "source": [
    "from visualization.examples import *\n",
    "from dataset.utils import *"
   ]
  },
  {
   "cell_type": "code",
   "execution_count": 4,
   "metadata": {
    "collapsed": true
   },
   "outputs": [],
   "source": [
    "all_samples = {}\n",
    "for filename in csv_file_iterator(\"/data/Setup Data/Mo\"):\n",
    "    samples = load_from_csv(filename)\n",
    "    all_samples[filename] = samples"
   ]
  },
  {
   "cell_type": "code",
   "execution_count": 5,
   "metadata": {
    "collapsed": false
   },
   "outputs": [],
   "source": [
    "sample1 = all_samples['/data/Setup Data/Mo/2016-05-24T22-36-02Z.csv']"
   ]
  },
  {
   "cell_type": "code",
   "execution_count": 6,
   "metadata": {
    "collapsed": true
   },
   "outputs": [],
   "source": [
    "from functools import reduce\n",
    "df = reduce(lambda x, y: x.append(y), all_samples.values())"
   ]
  },
  {
   "cell_type": "code",
   "execution_count": 7,
   "metadata": {
    "collapsed": false
   },
   "outputs": [
    {
     "data": {
      "text/plain": [
       "no_exercise                                                   28987\n",
       "resistanceTargeted:shoulders/dumbbell-shoulder-press           6859\n",
       "resistanceTargeted:arms/triceps-extension                      6673\n",
       "resistanceTargeted:shoulders/lateral-raise                     5346\n",
       "resistanceTargeted:arms/dumbbell-biceps-curl                   5118\n",
       "setup_resistanceTargeted:arms/triceps-extension                2750\n",
       "setup_resistanceTargeted:arms/dumbbell-biceps-curl             2500\n",
       "setup_resistanceTargeted:shoulders/dumbbell-shoulder-press     2500\n",
       "setup_resistanceTargeted:shoulders/lateral-raise               2250\n",
       "Name: label, dtype: int64"
      ]
     },
     "execution_count": 7,
     "metadata": {},
     "output_type": "execute_result"
    }
   ],
   "source": [
    "df['label'].value_counts()"
   ]
  },
  {
   "cell_type": "code",
   "execution_count": 8,
   "metadata": {
    "collapsed": false
   },
   "outputs": [],
   "source": [
    "labels = [l for l in df['label'].value_counts().keys() if l.startswith(\"setup_\")]\n",
    "labels_map = {l:i+1 for (i,l) in enumerate(labels)}\n",
    "label_to_idx = lambda l: labels_map.get(l, 0)"
   ]
  },
  {
   "cell_type": "code",
   "execution_count": 9,
   "metadata": {
    "collapsed": false
   },
   "outputs": [],
   "source": [
    "df['target'] = df['label'].map(label_to_idx)"
   ]
  },
  {
   "cell_type": "code",
   "execution_count": 10,
   "metadata": {
    "collapsed": false
   },
   "outputs": [],
   "source": [
    "samples = df[['x', 'y', 'z']].as_matrix()"
   ]
  },
  {
   "cell_type": "code",
   "execution_count": 11,
   "metadata": {
    "collapsed": true
   },
   "outputs": [],
   "source": [
    "positive_targets = df[df['target'] > 0]\n",
    "# negative_targets = df[df['target'] == 0]\n",
    "# targets = np.append(positive_targets[['target']].as_matrix(),\n",
    "#                     negative_targets[['target']].as_matrix(),\n",
    "#                     axis=0)"
   ]
  },
  {
   "cell_type": "code",
   "execution_count": 12,
   "metadata": {
    "collapsed": false
   },
   "outputs": [],
   "source": [
    "# User positive only\n",
    "targets = positive_targets[['target']].as_matrix()\n",
    "samples = df[['x', 'y', 'z']].as_matrix()[positive_targets.index]"
   ]
  },
  {
   "cell_type": "code",
   "execution_count": 13,
   "metadata": {
    "collapsed": false
   },
   "outputs": [
    {
     "data": {
      "text/plain": [
       "0    52983\n",
       "1     2750\n",
       "3     2500\n",
       "2     2500\n",
       "4     2250\n",
       "Name: label, dtype: int64"
      ]
     },
     "execution_count": 13,
     "metadata": {},
     "output_type": "execute_result"
    }
   ],
   "source": [
    "df['label'].map(label_to_idx).value_counts()"
   ]
  },
  {
   "cell_type": "code",
   "execution_count": 14,
   "metadata": {
    "collapsed": false
   },
   "outputs": [
    {
     "name": "stdout",
     "output_type": "stream",
     "text": [
      "(10000, 3)\n",
      "(10000, 1)\n"
     ]
    }
   ],
   "source": [
    "print(samples.shape)\n",
    "print(targets.shape)"
   ]
  },
  {
   "cell_type": "code",
   "execution_count": 15,
   "metadata": {
    "collapsed": false
   },
   "outputs": [],
   "source": [
    "X, y = augment_examples(samples, targets, new_sample_size=50*5)"
   ]
  },
  {
   "cell_type": "code",
   "execution_count": 16,
   "metadata": {
    "collapsed": false
   },
   "outputs": [
    {
     "name": "stdout",
     "output_type": "stream",
     "text": [
      "(40, 750)\n",
      "(40, 1)\n"
     ]
    }
   ],
   "source": [
    "print(X.shape)\n",
    "print(y.shape)"
   ]
  },
  {
   "cell_type": "markdown",
   "metadata": {},
   "source": [
    "### Examples encoding"
   ]
  },
  {
   "cell_type": "code",
   "execution_count": 17,
   "metadata": {
    "collapsed": false
   },
   "outputs": [],
   "source": [
    "Y = np.zeros((y.shape[0], 4))\n",
    "iy = np.array([[i, yi-1] for (i, yi) in enumerate(y) if yi > 0])\n",
    "Y[iy[:, 0], iy[:, 1]] = 1"
   ]
  },
  {
   "cell_type": "markdown",
   "metadata": {},
   "source": [
    "### Split dataset"
   ]
  },
  {
   "cell_type": "code",
   "execution_count": 18,
   "metadata": {
    "collapsed": true
   },
   "outputs": [],
   "source": [
    "X_train, X_test, Y_train, Y_test = split(X, Y)"
   ]
  },
  {
   "cell_type": "code",
   "execution_count": 19,
   "metadata": {
    "collapsed": false
   },
   "outputs": [
    {
     "name": "stderr",
     "output_type": "stream",
     "text": [
      "Using Theano backend.\n"
     ]
    }
   ],
   "source": [
    "from keras.models import Sequential\n",
    "from keras.layers.core import Dense, Dropout, Activation\n",
    "from keras.optimizers import SGD\n",
    "\n",
    "model = Sequential()\n",
    "model.add(Dense(input_dim=X.shape[1], output_dim=150, activation=\"tanh\", init='uniform'))\n",
    "model.add(Dropout(0.5))\n",
    "model.add(Dense(input_dim=150, output_dim=100, activation=\"tanh\", init='uniform'))\n",
    "model.add(Dropout(0.5))\n",
    "model.add(Dense(input_dim=100, output_dim=4, activation=\"tanh\", init='uniform'))\n",
    "\n",
    "sgd = SGD(lr=0.1, decay=1e-6, momentum=0.9, nesterov=True)\n",
    "model.compile(loss='mean_squared_error', optimizer=sgd, metrics=[\"accuracy\"])"
   ]
  },
  {
   "cell_type": "code",
   "execution_count": 20,
   "metadata": {
    "collapsed": false
   },
   "outputs": [
    {
     "name": "stdout",
     "output_type": "stream",
     "text": [
      "Epoch 1/30\n",
      "28/28 [==============================] - 0s - loss: 0.2498 - acc: 0.1429\n",
      "Epoch 2/30\n",
      "28/28 [==============================] - 0s - loss: 0.2305 - acc: 0.4286\n",
      "Epoch 3/30\n",
      "28/28 [==============================] - 0s - loss: 0.2066 - acc: 0.3929\n",
      "Epoch 4/30\n",
      "28/28 [==============================] - 0s - loss: 0.1905 - acc: 0.5000\n",
      "Epoch 5/30\n",
      "28/28 [==============================] - 0s - loss: 0.1833 - acc: 0.4643\n",
      "Epoch 6/30\n",
      "28/28 [==============================] - 0s - loss: 0.1726 - acc: 0.4643\n",
      "Epoch 7/30\n",
      "28/28 [==============================] - 0s - loss: 0.1670 - acc: 0.6071\n",
      "Epoch 8/30\n",
      "28/28 [==============================] - 0s - loss: 0.1655 - acc: 0.4643\n",
      "Epoch 9/30\n",
      "28/28 [==============================] - 0s - loss: 0.1721 - acc: 0.5000\n",
      "Epoch 10/30\n",
      "28/28 [==============================] - 0s - loss: 0.1646 - acc: 0.5357\n",
      "Epoch 11/30\n",
      "28/28 [==============================] - 0s - loss: 0.1552 - acc: 0.5000\n",
      "Epoch 12/30\n",
      "28/28 [==============================] - 0s - loss: 0.1532 - acc: 0.4643\n",
      "Epoch 13/30\n",
      "28/28 [==============================] - 0s - loss: 0.1408 - acc: 0.5714\n",
      "Epoch 14/30\n",
      "28/28 [==============================] - 0s - loss: 0.1313 - acc: 0.6429\n",
      "Epoch 15/30\n",
      "28/28 [==============================] - 0s - loss: 0.1353 - acc: 0.6429\n",
      "Epoch 16/30\n",
      "28/28 [==============================] - 0s - loss: 0.1222 - acc: 0.6429\n",
      "Epoch 17/30\n",
      "28/28 [==============================] - 0s - loss: 0.1216 - acc: 0.6429\n",
      "Epoch 18/30\n",
      "28/28 [==============================] - 0s - loss: 0.1222 - acc: 0.6429\n",
      "Epoch 19/30\n",
      "28/28 [==============================] - 0s - loss: 0.1229 - acc: 0.6071\n",
      "Epoch 20/30\n",
      "28/28 [==============================] - 0s - loss: 0.1172 - acc: 0.7500\n",
      "Epoch 21/30\n",
      "28/28 [==============================] - 0s - loss: 0.1126 - acc: 0.6786\n",
      "Epoch 22/30\n",
      "28/28 [==============================] - 0s - loss: 0.1093 - acc: 0.8929\n",
      "Epoch 23/30\n",
      "28/28 [==============================] - 0s - loss: 0.1057 - acc: 0.7143\n",
      "Epoch 24/30\n",
      "28/28 [==============================] - 0s - loss: 0.1032 - acc: 0.8214\n",
      "Epoch 25/30\n",
      "28/28 [==============================] - 0s - loss: 0.1009 - acc: 0.8571\n",
      "Epoch 26/30\n",
      "28/28 [==============================] - 0s - loss: 0.0992 - acc: 0.8571\n",
      "Epoch 27/30\n",
      "28/28 [==============================] - 0s - loss: 0.0944 - acc: 0.8571\n",
      "Epoch 28/30\n",
      "28/28 [==============================] - 0s - loss: 0.0965 - acc: 0.8571\n",
      "Epoch 29/30\n",
      "28/28 [==============================] - 0s - loss: 0.0893 - acc: 0.8929\n",
      "Epoch 30/30\n",
      "28/28 [==============================] - 0s - loss: 0.0821 - acc: 0.8929\n"
     ]
    },
    {
     "data": {
      "text/plain": [
       "<keras.callbacks.History at 0x7f3f96fd5dd8>"
      ]
     },
     "execution_count": 20,
     "metadata": {},
     "output_type": "execute_result"
    }
   ],
   "source": [
    "model.fit(X_train, Y_train, nb_epoch=30, batch_size=128)"
   ]
  },
  {
   "cell_type": "code",
   "execution_count": 21,
   "metadata": {
    "collapsed": false
   },
   "outputs": [
    {
     "data": {
      "text/plain": [
       "array([[ 0.05858711,  0.23962727,  0.39901465,  0.34748599],\n",
       "       [ 0.52966321,  0.31100461,  0.02855542,  0.18296297],\n",
       "       [ 0.459472  ,  0.31206068,  0.02152504,  0.2539449 ],\n",
       "       [-0.10300694,  0.48722726,  0.26156265,  0.27872989],\n",
       "       [ 0.73739421,  0.05843085, -0.10499434,  0.33498991],\n",
       "       [ 0.10499161,  0.15567634,  0.42874798,  0.36263362],\n",
       "       [ 0.50309205,  0.04170291,  0.08505519,  0.44268417],\n",
       "       [-0.09833112,  0.4687354 ,  0.34268534,  0.19744144],\n",
       "       [-0.36155024,  0.42100099,  0.15934826,  0.60967731],\n",
       "       [-0.04527041,  0.61438769,  0.22397788,  0.10068619],\n",
       "       [ 0.10644583,  0.33987078,  0.10503226,  0.41878414],\n",
       "       [ 0.03555423,  0.3892473 ,  0.426561  ,  0.15534791]])"
      ]
     },
     "execution_count": 21,
     "metadata": {},
     "output_type": "execute_result"
    }
   ],
   "source": [
    "model.predict(X_test)"
   ]
  }
 ],
 "metadata": {
  "kernelspec": {
   "display_name": "Python 3",
   "language": "python",
   "name": "python3"
  },
  "language_info": {
   "codemirror_mode": {
    "name": "ipython",
    "version": 3
   },
   "file_extension": ".py",
   "mimetype": "text/x-python",
   "name": "python",
   "nbconvert_exporter": "python",
   "pygments_lexer": "ipython3",
   "version": "3.5.1"
  }
 },
 "nbformat": 4,
 "nbformat_minor": 0
}
